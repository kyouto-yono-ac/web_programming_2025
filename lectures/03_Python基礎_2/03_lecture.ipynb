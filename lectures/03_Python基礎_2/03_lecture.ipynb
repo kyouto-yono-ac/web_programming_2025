{
    "cells": [
     {
      "cell_type": "markdown",
      "metadata": {},
      "source": [
       "# 第3回 Python基礎 (2): 制御構造 (講義ノートブック)\n",
       "\n",
       "このノートブックでは、Pythonにおける基本的な制御構造である `if`, `for`, `while`文の使い方を学びます。"
      ]
     },
     {
      "cell_type": "markdown",
      "metadata": {},
      "source": [
       "## 1. 条件分岐 (if文)\n",
       "\n",
       "`if`文を使うと、特定の条件が満たされた場合にのみ、特定のコードブロックを実行できます。\n",
       "`elif` (else if) を使うと、前の条件が偽の場合に別の条件をチェックできます。\n",
       "`else` を使うと、すべての条件が偽の場合に実行されるコードを指定できます。"
      ]
     },
     {
      "cell_type": "code",
      "execution_count": null,
      "metadata": {},
      "outputs": [],
      "source": [
       "# 例: 点数による評価\n",
       "score = 75\n",
       "\n",
       "if score >= 80:\n",
       "    print(\"優\")\n",
       "elif score >= 60: # else if の略\n",
       "    print(\"良\")\n",
       "elif score >= 0:\n",
       "    print(\"可\")\n",
       "else:\n",
       "    print(\"無効な点数です\")"
      ]
     },
     {
      "cell_type": "markdown",
      "metadata": {},
      "source": [
       "**比較演算子と論理演算子**\n",
       "\n",
       "`if` や `elif` の条件式では、比較演算子 (`==`, `!=`, `<`, `>`, `<=`, `>=`) や論理演算子 (`and`, `or`, `not`) を使って複雑な条件を作成できます。"
      ]
     },
     {
      "cell_type": "code",
      "execution_count": null,
      "metadata": {},
      "outputs": [],
      "source": [
       "age = 25\n",
       "is_student = False\n",
       "\n",
       "# and: 両方の条件がTrueの場合のみTrue\n",
       "if age < 30 and is_student:\n",
       "    print(\"学割が適用されるかもしれません (30歳未満の学生)\")\n",
       "elif age < 30:\n",
       "    print(\"30歳未満です\")\n",
       "else:\n",
       "    print(\"30歳以上か、学生ではありません\")\n",
       "\n",
       "# or: どちらか一方の条件がTrueの場合にTrue\n",
       "if age < 18 or age >= 65:\n",
       "    print(\"割引料金が適用される可能性があります (18歳未満または65歳以上)\")\n",
       "else:\n",
       "    print(\"通常料金です\")\n",
       "\n",
       "# not: 条件の真偽を反転\n",
       "if not is_student:\n",
       "    print(\"学生ではありません\")"
      ]
     },
     {
      "cell_type": "markdown",
      "metadata": {},
      "source": [
       "---"
      ]
     },
     {
      "cell_type": "markdown",
      "metadata": {},
      "source": [
       "## 2. 繰り返し処理 (forループ)\n",
       "\n",
       "`for`ループは、リスト、タプル、文字列などの「イテラブル」なオブジェクトの各要素に対して、または指定した回数だけ処理を繰り返すのに使います。"
      ]
     },
     {
      "cell_type": "markdown",
      "metadata": {},
      "source": [
       "### リストの要素を処理"
      ]
     },
     {
      "cell_type": "code",
      "execution_count": null,
      "metadata": {},
      "outputs": [],
      "source": [
       "fruits = [\"apple\", \"banana\", \"cherry\"]\n",
       "\n",
       "for fruit in fruits:\n",
       "    print(f\"I like {fruit}\")"
      ]
     },
     {
      "cell_type": "markdown",
      "metadata": {},
      "source": [
       "### `range()` を使った繰り返し\n",
       "\n",
       "`range(n)` は 0 から n-1 までの連続した数値を生成します。\n",
       "`range(start, stop)` は start から stop-1 までの数値を生成します。\n",
       "`range(start, stop, step)` は start から stop-1 まで step ずつ増減する数値を生成します。"
      ]
     },
     {
      "cell_type": "code",
      "execution_count": null,
      "metadata": {},
      "outputs": [],
      "source": [
       "# 0から4まで繰り返す (計5回)\n",
       "print(\"range(5):\")\n",
       "for i in range(5):\n",
       "    print(f\"現在の数値: {i}\")\n",
       "\n",
       "# 2から5まで繰り返す (2, 3, 4)\n",
       "print(\"\\nrange(2, 5):\")\n",
       "for i in range(2, 5):\n",
       "    print(f\"現在の数値: {i}\")\n",
       "\n",
       "# 1から10まで2ずつ増加 (1, 3, 5, 7, 9)\n",
       "print(\"\\nrange(1, 10, 2):\")\n",
       "for i in range(1, 10, 2):\n",
       "    print(f\"現在の数値: {i}\")"
      ]
     },
     {
      "cell_type": "markdown",
      "metadata": {},
      "source": [
       "### `break` と `continue`\n",
       "\n",
       "- `break`: ループを完全に **中断** して抜けます。\n",
       "- `continue`: 現在の回の処理を **スキップ** して、次の繰り返しに進みます。"
      ]
     },
     {
      "cell_type": "code",
      "execution_count": null,
      "metadata": {},
      "outputs": [],
      "source": [
       "print(\"break と continue の例:\")\n",
       "for i in range(10): # 0から9まで\n",
       "    if i == 7:\n",
       "        print(\"7になったので中断します\")\n",
       "        break # ループ全体を終了\n",
       "    if i % 2 != 0: # 奇数だったら\n",
       "        # print(f\"{i} は奇数なのでスキップ\") # デバッグ用にコメントアウト\n",
       "        continue # print(i) をスキップして次の i へ\n",
       "    print(i) # 偶数のみが出力される (0, 2, 4, 6)"
      ]
     },
     {
      "cell_type": "markdown",
      "metadata": {},
      "source": [
       "---"
      ]
     },
     {
      "cell_type": "markdown",
      "metadata": {},
      "source": [
       "## 3. 繰り返し処理 (whileループ)\n",
       "\n",
       "`while`ループは、指定した条件式が `True` である間、処理を繰り返します。繰り返しの回数が事前に分からない場合に便利です。"
      ]
     },
     {
      "cell_type": "markdown",
      "metadata": {},
      "source": [
       "### カウンタ変数を使う例"
      ]
     },
     {
      "cell_type": "code",
      "execution_count": null,
      "metadata": {},
      "outputs": [],
      "source": [
       "count = 0\n",
       "while count < 3:\n",
       "    print(f\"現在のカウント: {count}\")\n",
       "    count += 1 # カウントを増やす (忘れると無限ループ！)\n",
       "print(\"ループ終了\") # 0, 1, 2 が表示された後に出力"
      ]
     },
     {
      "cell_type": "markdown",
      "metadata": {},
      "source": [
       "### `while` ループでの `break`\n",
       "\n",
       "`while`ループ中でも`break`を使ってループを強制的に抜けることができます。無限ループ (`while True:`) と組み合わせて使うこともあります。"
      ]
     },
     {
      "cell_type": "code",
      "execution_count": null,
      "metadata": {},
      "outputs": [],
      "source": [
       "# 例: 合計が10を超えるまで数値を入力させる (ただしinput()はノートブックを停止させる可能性があるため、ここではシミュレート)\n",
       "total = 0\n",
       "simulated_inputs = [3, 5, 4] # 入力のシミュレーション用リスト\n",
       "input_index = 0\n",
       "\n",
       "print(\"合計が10を超えるまで数値を加算:\")\n",
       "while total <= 10:\n",
       "    if input_index >= len(simulated_inputs):\n",
       "        print(\"入力リストの終わりに達しました。\")\n",
       "        break # 入力がない場合はループ終了\n",
       "    \n",
       "    num = simulated_inputs[input_index]\n",
       "    print(f\"入力 (シミュレート): {num}\")\n",
       "    input_index += 1\n",
       "    \n",
       "    total += num\n",
       "    print(f\"現在の合計: {total}\")\n",
       "    if total > 10:\n",
       "        print(\"合計が10を超えました。\")\n",
       "        break # 条件を満たしたのでループを抜ける\n",
       "\n",
       "print(\"プログラム終了\")"
      ]
     },
     {
      "cell_type": "markdown",
      "metadata": {},
      "source": [
       "**無限ループ注意:** `while`ループの条件式が常に`True`のままだと、プログラムが停止しなくなります。ループ内で条件が変わるように注意するか、`break`で脱出経路を確保しましょう。"
      ]
     },
     {
      "cell_type": "markdown",
      "metadata": {},
      "source": [
       "---"
      ]
     },
     {
      "cell_type": "markdown",
      "metadata": {},
      "source": [
       "## 4. ネストした制御構造\n",
       "\n",
       "`if`, `for`, `while`などの制御構造は、入れ子（ネスト）にして使うことができます。これにより、より複雑な条件での処理や繰り返しが可能になります。"
      ]
     },
     {
      "cell_type": "markdown",
      "metadata": {},
      "source": [
       "### 例: `for` ループの中の `if` 文 (偶数のみ表示)"
      ]
     },
     {
      "cell_type": "code",
      "execution_count": null,
      "metadata": {},
      "outputs": [],
      "source": [
       "numbers = [1, 5, 2, 8, 3, 10, 7]\n",
       "\n",
       "print(\"リスト中の偶数:\")\n",
       "for num in numbers: # 外側のループ\n",
       "    if num % 2 == 0: # 内側の条件分岐\n",
       "        print(num)"
      ]
     },
     {
      "cell_type": "markdown",
      "metadata": {},
      "source": [
       "### 例: 九九の表 (ネストした`for`ループ)"
      ]
     },
     {
      "cell_type": "code",
      "execution_count": null,
      "metadata": {},
      "outputs": [],
      "source": [
       "print(\"九九の表 (3の段まで):\")\n",
       "for i in range(1, 4): # 1から3の段 (外側のループ)\n",
       "    print(f\"--- {i}の段 ---\")\n",
       "    for j in range(1, 10): # 1から9をかける (内側のループ)\n",
       "        print(f\"{i} x {j} = {i*j}\", end=\"\\t\") # \\t はタブ文字、end=\"\" で改行しない\n",
       "    print(\"\\n\") # 段ごとに改行 (print()だけでも改行される)"
      ]
     },
     {
      "cell_type": "markdown",
      "metadata": {},
      "source": [
       "これで制御構造の基本的な使い方は終わりです。演習ノートブックで実際にコードを書いてみましょう！"
      ]
     }
    ],
    "metadata": {
     "kernelspec": {
      "display_name": "Python 3",
      "language": "python",
      "name": "python3"
     },
     "language_info": {
      "codemirror_mode": {
       "name": "ipython",
       "version": 3
      },
      "file_extension": ".py",
      "mimetype": "text/x-python",
      "name": "python",
      "nbconvert_exporter": "python",
      "pygments_lexer": "ipython3",
      "version": "3.8.5"
     }
    },
    "nbformat": 4,
    "nbformat_minor": 4
   } 