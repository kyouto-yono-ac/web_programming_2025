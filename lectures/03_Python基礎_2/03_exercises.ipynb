{
    "cells": [
     {
      "cell_type": "markdown",
      "metadata": {},
      "source": [
       "# 第3回 Python基礎 (2): 制御構造 (演習ノートブック)\n",
       "\n",
       "このノートブックでは、講義で学んだ `if`, `for`, `while` 文を使って、いくつかの演習問題に取り組みます。"
      ]
     },
     {
      "cell_type": "markdown",
      "metadata": {},
      "source": [
       "## 演習1: 条件分岐 (if文)\n",
       "\n",
       "**課題:** 変数 `temperature` に気温（整数）を代入し、以下の条件に従ってメッセージを表示するプログラムを作成してください。\n",
       "\n",
       "- 30度以上の場合: `\"猛暑日です。水分補給を忘れずに！\"`\n",
       "- 25度以上30度未満の場合: `\"夏日です。快適に過ごしましょう。\"`\n",
       "- 10度以上25度未満の場合: `\"過ごしやすい気温です。\"`\n",
       "- 10度未満の場合: `\"少し肌寒いです。上着があると良いでしょう。\"`\n",
       "\n",
       "色々な値を `temperature` に代入して、正しく動作するか確認しましょう。"
      ]
     },
     {
      "cell_type": "code",
      "execution_count": null,
      "metadata": {},
      "outputs": [],
      "source": [
       "temperature = 28 # この値を変えて試してみましょう\n",
       "\n",
       "# --- ここにコードを書いてください --- \n",
       "\n",
       "# ---------------------------------"
      ]
     },
     {
      "cell_type": "markdown",
      "metadata": {},
      "source": [
       "---"
      ]
     },
     {
      "cell_type": "markdown",
      "metadata": {},
      "source": [
       "## 演習2: 繰り返し (forループ) と条件分岐\n",
       "\n",
       "**課題:** 与えられた数値リスト `numbers` の中から、**5以上の偶数** だけを合計するプログラムを作成してください。"
      ]
     },
     {
      "cell_type": "code",
      "execution_count": null,
      "metadata": {},
      "outputs": [],
      "source": [
       "numbers = [1, 10, 3, 8, 5, 6, 7, 4, 9, 2]\n",
       "total_sum = 0\n",
       "\n",
       "# --- ここにコードを書いてください --- \n",
       "# ヒント: forループでリストの各要素を取り出し、if文で条件を確認します。\n",
       "\n",
       "# ---------------------------------\n",
       "\n",
       "print(f\"5以上の偶数の合計: {total_sum}\") # 期待される出力例: 5以上の偶数の合計: 24 (10 + 8 + 6)"
      ]
     },
     {
      "cell_type": "markdown",
      "metadata": {},
      "source": [
       "---"
      ]
     },
     {
      "cell_type": "markdown",
      "metadata": {},
      "source": [
       "## 演習3: 繰り返し (whileループ) と `break`\n",
       "\n",
       "**課題:** 1から始まる整数を順に足していき、合計が100を **超えた** 時点でループを終了し、その時点での合計値と、最後に足した数を表示するプログラムを `while` ループと `break` を使って作成してください。"
      ]
     },
     {
      "cell_type": "code",
      "execution_count": null,
      "metadata": {},
      "outputs": [],
      "source": [
       "total = 0\n",
       "current_number = 0\n",
       "\n",
       "# --- ここにコードを書いてください --- \n",
       "# ヒント: while True: で無限ループを作り、if文と break で抜ける条件を指定します。\n",
       "\n",
       "# ---------------------------------\n",
       "\n",
       "print(f\"合計が100を超えた時点の合計: {total}\")\n",
       "print(f\"最後に足した数: {current_number}\")\n",
       "# 期待される出力例: 合計が100を超えた時点の合計: 105, 最後に足した数: 14 (1+2+...+14 = 105)"
      ]
     },
     {
      "cell_type": "markdown",
      "metadata": {},
      "source": [
       "---"
      ]
     },
     {
      "cell_type": "markdown",
      "metadata": {},
      "source": [
       "## 演習4: ネストしたループ (発展)\n",
       "\n",
       "**課題:** 2から20までの整数について、それぞれが素数かどうかを判定し、素数であれば表示するプログラムを作成してください。\n",
       "\n",
       "**ヒント:**\n",
       "1. 外側のループで2から20までの数を順に調べます (`for num in range(2, 21):`)。\n",
       "2. 内側のループで、その数 `num` が 2 から `num-1` までの数で割り切れるかどうかを調べます (`for i in range(2, num):`)。\n",
       "3. もし内側のループで割り切れる数が見つかったら、その数 `num` は素数ではないので、`break` で内側のループを抜けます。\n",
       "4. 内側のループが `break` されずに最後まで完了した場合 (つまり、2 から `num-1` までで割り切れなかった場合)、その数 `num` は素数です。`for`ループには `else` ブロックを付けることができ、これはループが `break` されずに完了した場合に実行されます。"
      ]
     },
     {
      "cell_type": "code",
      "execution_count": null,
      "metadata": {},
      "outputs": [],
      "source": [
       "print(\"2から20までの素数:\")\n",
       "\n",
       "# --- ここにコードを書いてください --- \n",
       "\n",
       "# ---------------------------------\n",
       "# 期待される出力: 2, 3, 5, 7, 11, 13, 17, 19 が順に表示される"
      ]
     }
    ],
    "metadata": {
     "kernelspec": {
      "display_name": "Python 3",
      "language": "python",
      "name": "python3"
     },
     "language_info": {
      "codemirror_mode": {
       "name": "ipython",
       "version": 3
      },
      "file_extension": ".py",
      "mimetype": "text/x-python",
      "name": "python",
      "nbconvert_exporter": "python",
      "pygments_lexer": "ipython3",
      "version": "3.8.5"
     }
    },
    "nbformat": 4,
    "nbformat_minor": 4
   } 