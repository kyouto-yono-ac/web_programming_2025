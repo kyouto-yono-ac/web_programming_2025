{
    "cells": [
     {
      "cell_type": "markdown",
      "metadata": {},
      "source": [
       "# 第3回 Python基礎 (2): 制御構造 (演習解答ノートブック)\n",
       "\n",
       "このノートブックは、`03_exercises.ipynb` の演習問題の解答例を示します。"
      ]
     },
     {
      "cell_type": "markdown",
      "metadata": {},
      "source": [
       "## 演習1: 条件分岐 (if文) - 解答例"
      ]
     },
     {
      "cell_type": "code",
      "execution_count": null,
      "metadata": {},
      "outputs": [],
      "source": [
       "temperature = 28 # この値を変えて試してみましょう (例: 35, 15, 5)\n",
       "\n",
       "# --- 解答例 --- \n",
       "if temperature >= 30:\n",
       "    print(\"猛暑日です。水分補給を忘れずに！\")\n",
       "elif temperature >= 25: # 30度未満であることは上のifでチェック済み\n",
       "    print(\"夏日です。快適に過ごしましょう。\")\n",
       "elif temperature >= 10: # 25度未満であることは上のelifでチェック済み\n",
       "    print(\"過ごしやすい気温です。\")\n",
       "else: # 10度未満の場合\n",
       "    print(\"少し肌寒いです。上着があると良いでしょう。\")\n",
       "# -----------------"
      ]
     },
     {
      "cell_type": "markdown",
      "metadata": {},
      "source": [
       "---"
      ]
     },
     {
      "cell_type": "markdown",
      "metadata": {},
      "source": [
       "## 演習2: 繰り返し (forループ) と条件分岐 - 解答例"
      ]
     },
     {
      "cell_type": "code",
      "execution_count": null,
      "metadata": {},
      "outputs": [],
      "source": [
       "numbers = [1, 10, 3, 8, 5, 6, 7, 4, 9, 2]\n",
       "total_sum = 0\n",
       "\n",
       "# --- 解答例 --- \n",
       "for num in numbers:\n",
       "    # 条件1: 5以上か？ and 条件2: 偶数か？ (num % 2 == 0)\n",
       "    if num >= 5 and num % 2 == 0:\n",
       "        total_sum += num # 条件を満たしたら合計に加算\n",
       "# -----------------\n",
       "\n",
       "print(f\"5以上の偶数の合計: {total_sum}\")"
      ]
     },
     {
      "cell_type": "markdown",
      "metadata": {},
      "source": [
       "---"
      ]
     },
     {
      "cell_type": "markdown",
      "metadata": {},
      "source": [
       "## 演習3: 繰り返し (whileループ) と `break` - 解答例"
      ]
     },
     {
      "cell_type": "code",
      "execution_count": null,
      "metadata": {},
      "outputs": [],
      "source": [
       "total = 0\n",
       "current_number = 0\n",
       "\n",
       "# --- 解答例 --- \n",
       "while True: # 無限ループを開始\n",
       "    current_number += 1 # 次の数を準備\n",
       "    total += current_number # 合計に加算\n",
       "    if total > 100: # 合計が100を超えたかチェック\n",
       "        break # 条件を満たしたのでループを抜ける\n",
       "# -----------------\n",
       "\n",
       "print(f\"合計が100を超えた時点の合計: {total}\")\n",
       "print(f\"最後に足した数: {current_number}\")"
      ]
     },
     {
      "cell_type": "markdown",
      "metadata": {},
      "source": [
       "---"
      ]
     },
     {
      "cell_type": "markdown",
      "metadata": {},
      "source": [
       "## 演習4: ネストしたループ (発展) - 解答例"
      ]
     },
     {
      "cell_type": "code",
      "execution_count": null,
      "metadata": {},
      "outputs": [],
      "source": [
       "print(\"2から20までの素数:\")\n",
       "\n",
       "# --- 解答例 --- \n",
       "for num in range(2, 21): # 2から20まで調べる\n",
       "    for i in range(2, num): # 2から num-1 までで割り切れるか調べる\n",
       "        if num % i == 0: # 割り切れたら素数ではない\n",
       "            # print(f\"{num} は {i} で割り切れるので素数ではない\") # デバッグ用\n",
       "            break # 内側のループを抜ける (numは素数ではないので、これ以上調べる必要なし)\n",
       "    else:\n",
       "        # 内側のループが break されずに完了した場合 (一度も割り切れなかった場合)\n",
       "        # この num は素数\n",
       "        print(num, end=\" \") # 素数を表示 (end=\" \" で改行せずスペース区切り)\n",
       "# -----------------\n",
       "\n",
       "print() # 最後に改行"
      ]
     }
    ],
    "metadata": {
     "kernelspec": {
      "display_name": "Python 3",
      "language": "python",
      "name": "python3"
     },
     "language_info": {
      "codemirror_mode": {
       "name": "ipython",
       "version": 3
      },
      "file_extension": ".py",
      "mimetype": "text/x-python",
      "name": "python",
      "nbconvert_exporter": "python",
      "pygments_lexer": "ipython3",
      "version": "3.8.5"
     }
    },
    "nbformat": 4,
    "nbformat_minor": 4
   }