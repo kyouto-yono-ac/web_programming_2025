{
  "cells": [
    {
      "cell_type": "markdown",
      "metadata": {},
      "source": []
    },
    {
      "cell_type": "raw",
      "metadata": {
        "vscode": {
          "languageId": "raw"
        }
      },
      "source": [
        "# 第12回 講義ノートブック：データ可視化（グラフ作成）\n",
        "\n",
        "このノートブックでは、第11回で学んだデータ集計・ランキング結果を、**視覚的に美しく分かりやすいグラフ**で表現する技術を学びます。\n",
        "\n",
        "## 本日の目標\n",
        "1. **Streamlitの基本グラフ機能**を使った可視化\n",
        "2. **Plotly Express**による高度でインタラクティブなグラフ作成\n",
        "3. **複数国の時系列比較**グラフの実装\n",
        "4. **総合ダッシュボード**の作成\n",
        "\n",
        "## なぜグラフが重要？\n",
        "数字の羅列では分からない**トレンド**、**比較**、**パターン**が一目で理解できます！\n"
      ]
    },
    {
      "cell_type": "raw",
      "metadata": {
        "vscode": {
          "languageId": "raw"
        }
      },
      "source": [
        "## 準備：ライブラリのインポートとデータ読み込み\n",
        "\n",
        "まず、必要なライブラリをインポートし、前回と同じデータを読み込みます。\n",
        "新しく **Plotly Express** を使うので、Colabでは追加インストールが必要です。\n"
      ]
    },
    {
      "cell_type": "code",
      "execution_count": null,
      "metadata": {},
      "outputs": [],
      "source": [
        "# Plotlyをインストール（Colabの場合のみ実行）\n",
        "%pip install plotly\n",
        "\n",
        "# 基本ライブラリのインポート\n",
        "import pandas as pd\n",
        "import streamlit as st\n",
        "\n",
        "# 新しく追加：可視化ライブラリ\n",
        "import plotly.express as px\n",
        "import plotly.graph_objects as go\n",
        "\n",
        "# データの読み込み\n",
        "df = pd.read_csv('visa_number_in_japan.csv')\n",
        "print(\"データを読み込みました！\")\n",
        "print(f\"データの形（行数, 列数）: {df.shape}\")\n",
        "df.head()\n"
      ]
    },
    {
      "cell_type": "raw",
      "metadata": {
        "vscode": {
          "languageId": "raw"
        }
      },
      "source": [
        "## Step 1: Streamlitの基本グラフ機能\n",
        "\n",
        "Streamlitには、シンプルで使いやすい基本的なグラフ機能があります。\n",
        "- `st.line_chart()` - 折れ線グラフ（時系列データの推移）\n",
        "- `st.bar_chart()` - 棒グラフ（カテゴリ別の比較）\n",
        "- `st.area_chart()` - 面グラフ（累積値の変化）\n",
        "\n",
        "### 基本的な使い方\n",
        "データをそのまま渡すだけで、美しいグラフが作成されます！\n"
      ]
    },
    {
      "cell_type": "code",
      "execution_count": null,
      "metadata": {},
      "outputs": [],
      "source": [
        "# 年別総ビザ発行数の推移（折れ線グラフ）\n",
        "yearly_totals = df.groupby('Year')['Number of issued_numerical'].sum()\n",
        "print(\"年別総ビザ発行数:\")\n",
        "print(yearly_totals)\n",
        "\n",
        "# Streamlitアプリでの表示例\n",
        "print(\"\\n# Streamlitアプリでの表示コード例:\")\n",
        "print(\"st.line_chart(yearly_totals)\")\n",
        "print(\"→ 年別推移が折れ線グラフで表示されます\")\n"
      ]
    },
    {
      "cell_type": "raw",
      "metadata": {
        "vscode": {
          "languageId": "raw"
        }
      },
      "source": [
        "## Step 2: Plotly Expressによる高度なグラフ\n",
        "\n",
        "Plotly Expressは、より美しく、カスタマイズ性の高いグラフを作成できます。\n",
        "- **インタラクティブ機能**（ズーム、パン、ホバー）\n",
        "- **美しいデザイン**\n",
        "- **豊富なグラフタイプ**\n",
        "\n",
        "### 基本的な使い方\n",
        "1. `px.グラフタイプ(data, x='列名', y='列名')` でグラフ作成\n",
        "2. `st.plotly_chart(fig)` でStreamlitに表示\n"
      ]
    },
    {
      "cell_type": "raw",
      "metadata": {
        "vscode": {
          "languageId": "raw"
        }
      },
      "source": []
    },
    {
      "cell_type": "code",
      "execution_count": null,
      "metadata": {},
      "outputs": [],
      "source": [
        "# 2023年の国別TOP10（棒グラフ）\n",
        "year_2023 = df[df['Year'] == 2023]\n",
        "top10_2023 = year_2023.groupby('Country')['Number of issued_numerical'].sum().sort_values(ascending=False).head(10)\n",
        "print(\"2023年 国別TOP10:\")\n",
        "print(top10_2023)\n",
        "\n",
        "# Streamlitアプリでの表示例\n",
        "print(\"\\n# Streamlitアプリでの表示コード例:\")\n",
        "print(\"st.bar_chart(top10_2023)\")\n",
        "print(\"→ 国別ランキングが棒グラフで表示されます\")\n"
      ]
    },
    {
      "cell_type": "raw",
      "metadata": {
        "vscode": {
          "languageId": "raw"
        }
      },
      "source": []
    }
  ],
  "metadata": {
    "language_info": {
      "name": "python"
    }
  },
  "nbformat": 4,
  "nbformat_minor": 2
}
