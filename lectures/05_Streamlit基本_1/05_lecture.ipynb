{
    "cells": [
     {
      "cell_type": "markdown",
      "metadata": {},
      "source": [
       "# Python基礎: 辞書 (`dict`) と関数 (`def`) の例\n",
       "\n",
       "このノートブックでは、スライドで紹介した辞書と関数の基本的な使い方を実践します。"
      ]
     },
     {
      "cell_type": "markdown",
      "metadata": {},
      "source": [
       "## 1. 辞書 (`dict`) の基本"
      ]
     },
     {
      "cell_type": "code",
      "execution_count": null,
      "metadata": {},
      "source": [
       "# 辞書の作成\n",
       "person = {\n",
       "    \"name\": \"太郎\",\n",
       "    \"age\": 20,\n",
       "    \"city\": \"東京\"\n",
       "}\n",
       "\n",
       "# 値へのアクセス\n",
       "print(person[\"name\"])  # 出力: 太郎\n",
       "print(person[\"age\"])   # 出力: 20"
      ]
     },
     {
      "cell_type": "markdown",
      "metadata": {},
      "source": [
       "## 2. 辞書の操作"
      ]
     },
     {
      "cell_type": "code",
      "execution_count": null,
      "metadata": {},
      "source": [
       "# 値の更新\n",
       "person[\"age\"] = 21\n",
       "print(person[\"age\"])   # 出力: 21\n",
       "\n",
       "# 新しいキーと値の追加\n",
       "person[\"job\"] = \"学生\"\n",
       "print(person[\"job\"])   # 出力: 学生\n",
       "\n",
       "# 辞書の内容を確認\n",
       "print(person)  # 出力: {'name': '太郎', 'age': 21, 'city': '東京', 'job': '学生'}"
      ]
     },
     {
      "cell_type": "markdown",
      "metadata": {},
      "source": [
       "## 3. 関数 (`def`) の基本"
      ]
     },
     {
      "cell_type": "code",
      "execution_count": null,
      "metadata": {},
      "source": [
       "# 関数の定義\n",
       "def greet(name):\n",
       "    return f\"こんにちは、{name}さん！\"\n",
       "\n",
       "# 関数の呼び出し\n",
       "message = greet(\"太郎\")\n",
       "print(message)  # 出力: こんにちは、太郎さん！"
      ]
     },
     {
      "cell_type": "markdown",
      "metadata": {},
      "source": [
       "## 4. 素数判定の関数"
      ]
     },
     {
      "cell_type": "code",
      "execution_count": null,
      "metadata": {},
      "source": [
       "# 素数判定の関数\n",
       "def is_prime(n):\n",
       "    # 2未満の数は素数ではない\n",
       "    if n < 2:\n",
       "        return False\n",
       "    \n",
       "    # 2からn-1までの数で割り切れるかチェック\n",
       "    for i in range(2, n):\n",
       "        if n % i == 0:  # 割り切れたら素数ではない\n",
       "            return False\n",
       "    \n",
       "    # 一度も割り切れなかったら素数\n",
       "    return True\n",
       "\n",
       "# 関数の使用例\n",
       "for num in range(2, 21):\n",
       "    if is_prime(num):\n",
       "        print(num, end=\" \")  # 2から20までの素数を表示"
      ]
     }
    ],
    "metadata": {
     "kernelspec": {
      "display_name": "Python 3",
      "language": "python",
      "name": "python3"
     },
     "language_info": {
      "codemirror_mode": {
       "name": "ipython",
       "version": 3
      },
      "file_extension": ".py",
      "mimetype": "text/x-python",
      "name": "python",
      "nbconvert_exporter": "python",
      "pygments_lexer": "ipython3",
      "version": "3.8.0"
     }
    },
    "nbformat": 4,
    "nbformat_minor": 4
   }