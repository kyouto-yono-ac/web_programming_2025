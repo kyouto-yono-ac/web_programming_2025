{
 "cells": [
  {
   "cell_type": "markdown",
   "metadata": {
    "vscode": {
     "languageId": "raw"
    }
   },
   "source": [
    "# 第11回：データ処理・分析・可視化の総合実践 (Pandas)\n",
    "\n",
    "## 🎯 最終目標\n",
    "**インタラクティブなビザ発行数分析ダッシュボード**\n",
    "\n",
    "### 📋 本日のロードマップ\n",
    "| Part | 時間 | 内容 | 成果物 |\n",
    "|------|------|------|--------|\n",
    "| Part 1 | 15分 | **Pandas基礎** | データ読み込み・観察・基本フィルタ |\n",
    "| Part 2 | 20分 | **データ分析** | 集計・ランキング・複数条件 |\n",
    "| Part 3 | 20分 | **Streamlit連携** | インタラクティブUI |\n",
    "| Part 4 | 20分 | **データ可視化** | 美しいグラフ・ダッシュボード |\n",
    "| Part 5 | 8分 | **統合** | 完成版アプリ |\n",
    "\n",
    "### 📊 使用するデータ\n",
    "**日本政府ビザ発行統計データ**\n",
    "- 年別・国別のビザ発行数\n",
    "- 実際の公開データを使用（実践的！）\n"
   ]
  },
  {
   "cell_type": "markdown",
   "metadata": {
    "vscode": {
     "languageId": "raw"
    }
   },
   "source": [
    "# Part 1: Pandas基礎 🐼\n",
    "## データをプログラムで扱えるようになろう\n",
    "\n",
    "**時間: 15分**\n",
    "\n",
    "### 1-1. 環境準備とデータ読み込み（5分）\n"
   ]
  },
  {
   "cell_type": "code",
   "execution_count": 15,
   "metadata": {},
   "outputs": [
    {
     "name": "stdout",
     "output_type": "stream",
     "text": [
      "📚 ライブラリの読み込み完了！\n"
     ]
    }
   ],
   "source": [
    "# ライブラリのインポート\n",
    "import pandas as pd\n",
    "import plotly.express as px\n",
    "import matplotlib.pyplot as plt\n",
    "import numpy as np\n",
    "\n",
    "print(\"📚 ライブラリの読み込み完了！\")\n"
   ]
  },
  {
   "cell_type": "code",
   "execution_count": 16,
   "metadata": {},
   "outputs": [
    {
     "name": "stdout",
     "output_type": "stream",
     "text": [
      "✅ データの読み込みが完了しました！\n",
      "データサイズ: 1945行 × 48列\n"
     ]
    }
   ],
   "source": [
    "# CSVファイルの読み込み\n",
    "# 'visa_number_in_japan.csv'をアップロードしておく\n",
    "df = pd.read_csv('visa_number_in_japan.csv')\n",
    "\n",
    "print(\"✅ データの読み込みが完了しました！\")\n",
    "print(f\"データサイズ: {df.shape[0]}行 × {df.shape[1]}列\")\n"
   ]
  },
  {
   "cell_type": "markdown",
   "metadata": {
    "vscode": {
     "languageId": "raw"
    }
   },
   "source": [
    "### 1-2. データの観察（5分）\n",
    "データの中身を覗いてみましょう！\n",
    "\n",
    "**🔍 確認ポイント**: 何年分のデータ？どんな国が含まれている？\n"
   ]
  },
  {
   "cell_type": "code",
   "execution_count": null,
   "metadata": {},
   "outputs": [],
   "source": [
    "# 最初の5行を表示\n",
    "print(\"📄 データの先頭5行:\")\n",
    "df.head()\n"
   ]
  },
  {
   "cell_type": "code",
   "execution_count": null,
   "metadata": {},
   "outputs": [],
   "source": [
    "# データの基本情報（行数、列数、データ型）\n",
    "print(\"ℹ️ データの基本情報:\")\n",
    "print(f\"データサイズ: {df.shape}\")\n",
    "print(f\"列名: {list(df.columns)}\")\n",
    "print(\"\\nデータ型と欠損値情報:\")\n",
    "df.info()\n"
   ]
  },
  {
   "cell_type": "code",
   "execution_count": null,
   "metadata": {},
   "outputs": [],
   "source": [
    "# データの範囲を確認\n",
    "print(\"📊 データの範囲:\")\n",
    "print(f\"年の範囲: {df['Year'].min()} - {df['Year'].max()}\")\n",
    "print(f\"国の数: {df['Country'].nunique()}カ国\")\n",
    "print(f\"総レコード数: {len(df):,}件\")\n",
    "\n",
    "print(\"\\n上位10カ国:\")\n",
    "print(df['Country'].value_counts().head(10))\n"
   ]
  },
  {
   "cell_type": "markdown",
   "metadata": {
    "vscode": {
     "languageId": "raw"
    }
   },
   "source": [
    "### 1-3. 基本的なフィルタリング（5分）\n",
    "条件を指定してデータを絞り込む\n",
    "\n",
    "**💡 ポイント**: `df[条件式]`で必要なデータだけを抽出できる\n"
   ]
  },
  {
   "cell_type": "code",
   "execution_count": null,
   "metadata": {},
   "outputs": [],
   "source": [
    "# 中国のデータだけを取り出す\n",
    "china_data = df[df['Country'] == 'China']\n",
    "print(f\"🇨🇳 中国のデータ件数: {len(china_data)}件\")\n",
    "print(\"中国のデータ（先頭5行）:\")\n",
    "china_data.head()\n"
   ]
  },
  {
   "cell_type": "code",
   "execution_count": null,
   "metadata": {},
   "outputs": [],
   "source": [
    "# 2017年のデータだけを取り出す\n",
    "year_2017 = df[df['Year'] == 2017]\n",
    "print(f\"📅 2017年のデータ件数: {len(year_2017)}件\")\n",
    "\n",
    "# 2017年の上位10国\n",
    "top_2017 = year_2017.groupby('Country')['Number of issued_numerical'].sum().sort_values(ascending=False).head(10)\n",
    "print(\"\\n2017年 国別TOP10:\")\n",
    "print(top_2017)\n"
   ]
  },
  {
   "cell_type": "code",
   "execution_count": null,
   "metadata": {},
   "outputs": [],
   "source": [
    "# 発行数が10,000以上のデータ\n",
    "large_count = df[df['Number of issued_numerical'] >= 10000]\n",
    "print(f\"🔢 発行数が10,000以上のデータ件数: {len(large_count)}件\")\n",
    "\n",
    "print(\"\\n発行数が多いデータ（先頭10件）:\")\n",
    "large_count.sort_values('Number of issued_numerical', ascending=False).head(10)\n"
   ]
  },
  {
   "cell_type": "markdown",
   "metadata": {
    "vscode": {
     "languageId": "raw"
    }
   },
   "source": [
    "# Part 2: データ分析 📊\n",
    "## 集計・ランキング・複雑な条件\n",
    "\n",
    "**時間: 20分**\n",
    "\n",
    "### 2-1. 複数条件フィルタリング（8分）\n"
   ]
  },
  {
   "cell_type": "code",
   "execution_count": null,
   "metadata": {},
   "outputs": [],
   "source": [
    "# AND条件（両方の条件を満たす）\n",
    "# 2017年かつ中国のデータ\n",
    "china_2017 = df[(df['Year'] == 2017) & (df['Country'] == 'China')]\n",
    "print(f\"🔍 2017年かつ中国のデータ: {len(china_2017)}件\")\n",
    "print(china_2017)\n"
   ]
  },
  {
   "cell_type": "code",
   "execution_count": null,
   "metadata": {},
   "outputs": [],
   "source": [
    "# OR条件（いずれかの条件を満たす）\n",
    "# 中国または韓国のデータ\n",
    "china_or_korea = df[(df['Country'] == 'China') | (df['Country'] == 'Korea')]\n",
    "print(f\"🔍 中国または韓国のデータ: {len(china_or_korea)}件\")\n",
    "\n",
    "# 年別の内訳\n",
    "print(\"\\n年別内訳:\")\n",
    "print(china_or_korea.groupby(['Year', 'Country']).size().unstack(fill_value=0))\n"
   ]
  },
  {
   "cell_type": "code",
   "execution_count": null,
   "metadata": {},
   "outputs": [],
   "source": [
    "# isin()メソッド（複数の値のいずれかに一致）\n",
    "# 指定した国のデータをまとめて取得\n",
    "countries_list = ['China', 'Korea', 'United States', 'Vietnam', 'Philippines']\n",
    "selected_data = df[df['Country'].isin(countries_list)]\n",
    "print(f\"🔍 指定した{len(countries_list)}カ国のデータ: {len(selected_data)}件\")\n",
    "\n",
    "# 国別の総計\n",
    "country_totals = selected_data.groupby('Country')['Number of issued_numerical'].sum().sort_values(ascending=False)\n",
    "print(\"\\n指定国の発行数合計:\")\n",
    "print(country_totals)\n"
   ]
  },
  {
   "cell_type": "markdown",
   "metadata": {
    "vscode": {
     "languageId": "raw"
    }
   },
   "source": [
    "### 2-2. データ集計（groupby）（7分）\n",
    "\n",
    "**🔑 キーポイント**: `groupby()`はExcelのピボットテーブルのような機能\n"
   ]
  },
  {
   "cell_type": "code",
   "execution_count": null,
   "metadata": {},
   "outputs": [],
   "source": [
    "# 国別の合計発行数\n",
    "country_totals = df.groupby('Country')['Number of issued_numerical'].sum()\n",
    "print(\"🌍 国別の合計発行数 (TOP10):\")\n",
    "print(country_totals.sort_values(ascending=False).head(10))\n"
   ]
  },
  {
   "cell_type": "code",
   "execution_count": null,
   "metadata": {},
   "outputs": [],
   "source": [
    "# 年別の合計発行数\n",
    "yearly_totals = df.groupby('Year')['Number of issued_numerical'].sum()\n",
    "print(\"📅 年別の合計発行数:\")\n",
    "print(yearly_totals)\n",
    "\n"
   ]
  }
 ],
 "metadata": {
  "kernelspec": {
   "display_name": "dev_3.12.8",
   "language": "python",
   "name": "python3"
  },
  "language_info": {
   "codemirror_mode": {
    "name": "ipython",
    "version": 3
   },
   "file_extension": ".py",
   "mimetype": "text/x-python",
   "name": "python",
   "nbconvert_exporter": "python",
   "pygments_lexer": "ipython3",
   "version": "3.12.8"
  }
 },
 "nbformat": 4,
 "nbformat_minor": 4
}
