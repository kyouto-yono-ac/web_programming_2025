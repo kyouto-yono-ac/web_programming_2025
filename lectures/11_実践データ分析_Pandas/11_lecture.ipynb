{
  "cells": [
    {
      "cell_type": "raw",
      "metadata": {
        "vscode": {
          "languageId": "raw"
        }
      },
      "source": [
        "# 第11回 講義ノートブック：実践データ分析 (集計とランキング)\n",
        "\n",
        "このノートブックでは、第10回で学んだPandasの基本操作を発展させ、実際のデータ分析でよく使われる **集計** と **ランキング** の手法を学びます。\n",
        "\n",
        "## 本日の目標\n",
        "1. 第10回の補完：`st.selectbox`で国を選んでデータを表示するアプリを作成\n",
        "2. 複数条件でのデータフィルタリング（AND/OR条件）\n",
        "3. `groupby`を使ったデータ集計\n",
        "4. `sort_values`を使ったランキング作成\n",
        "5. `st.cache_data`を使ったStreamlitアプリの高速化\n",
        "6. インタラクティブなデータ分析アプリの作成\n"
      ]
    },
    {
      "cell_type": "raw",
      "metadata": {
        "vscode": {
          "languageId": "raw"
        }
      },
      "source": [
        "## 準備：ライブラリのインポートとデータ読み込み\n",
        "\n",
        "まず、必要なライブラリをインポートし、前回と同じデータを読み込みます。\n"
      ]
    },
    {
      "cell_type": "code",
      "execution_count": null,
      "metadata": {},
      "outputs": [],
      "source": [
        "import pandas as pd\n",
        "import streamlit as st\n",
        "\n",
        "# データの読み込み\n",
        "df = pd.read_csv('visa_number_in_japan.csv')\n",
        "print(\"データを読み込みました！\")\n",
        "print(f\"データの形（行数, 列数）: {df.shape}\")\n",
        "df.head()\n"
      ]
    },
    {
      "cell_type": "raw",
      "metadata": {
        "vscode": {
          "languageId": "raw"
        }
      },
      "source": [
        "## Step 1: 第10回の補完 - Streamlitとの基本連携\n",
        "\n",
        "第10回では時間の関係でできなかった「`st.selectbox`で国を選んでデータを表示するアプリ」を作成します。\n",
        "\n",
        "### 基本的なStreamlit連携の流れ\n",
        "1. データを読み込む\n",
        "2. 選択肢（国のリスト）を取得する\n",
        "3. `st.selectbox`でユーザーに選択してもらう\n",
        "4. 選択された条件でデータをフィルタリングする\n",
        "5. 結果を`st.dataframe`で表示する\n"
      ]
    },
    {
      "cell_type": "code",
      "execution_count": null,
      "metadata": {},
      "outputs": [],
      "source": [
        "# 国のリストを取得\n",
        "countries = df['Country'].unique()\n",
        "print(f\"データに含まれる国数: {len(countries)}\")\n",
        "print(\"最初の10カ国:\")\n",
        "print(countries[:10])\n"
      ]
    },
    {
      "cell_type": "code",
      "execution_count": null,
      "metadata": {},
      "outputs": [],
      "source": [
        "# 第10回の補完演習は、src/lecture11/app_ranking.py で行います\n",
        "print(\"Streamlitアプリのコードは別ファイルで演習します\")\n",
        "print(\"src/lecture11/app_ranking.py を確認してください\")\n"
      ]
    },
    {
      "cell_type": "raw",
      "metadata": {
        "vscode": {
          "languageId": "raw"
        }
      },
      "source": [
        "## Step 2: 複数条件フィルタリング\n",
        "\n",
        "実際のデータ分析では、複数の条件を組み合わせてデータを絞り込むことがよくあります。\n",
        "\n",
        "### AND条件とOR条件\n",
        "- **AND条件** (`&`): 両方の条件を満たすデータ\n",
        "- **OR条件** (`|`): いずれかの条件を満たすデータ\n",
        "- **`isin()`メソッド**: 複数の値のいずれかに一致するデータ\n"
      ]
    },
    {
      "cell_type": "code",
      "execution_count": null,
      "metadata": {},
      "outputs": [],
      "source": [
        "# AND条件の例：2023年かつ中国のデータ\n",
        "df_china_2023 = df[(df['Year'] == 2023) & (df['Country'] == 'China')]\n",
        "print(f\"2023年の中国のデータ: {len(df_china_2023)}件\")\n",
        "df_china_2023.head()\n"
      ]
    }
  ],
  "metadata": {
    "language_info": {
      "name": "python"
    }
  },
  "nbformat": 4,
  "nbformat_minor": 2
}
