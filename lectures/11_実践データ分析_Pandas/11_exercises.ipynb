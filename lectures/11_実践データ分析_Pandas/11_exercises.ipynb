{
  "cells": [
    {
      "cell_type": "raw",
      "metadata": {
        "vscode": {
          "languageId": "raw"
        }
      },
      "source": [
        "# 第11回 演習ノートブック：実践データ分析 (集計とランキング)\n",
        "\n",
        "このノートブックでは、第11回講義で学んだ内容の理解度を確認するための演習問題に取り組みます。\n",
        "\n",
        "## 演習の目標\n",
        "- 複数条件フィルタリングを正しく使える\n",
        "- `groupby`を使ったデータ集計ができる\n",
        "- `sort_values`を使ったランキング作成ができる\n",
        "- 学んだ内容を組み合わせて実践的な分析ができる\n",
        "\n",
        "## 準備\n",
        "まず、必要なライブラリをインポートし、データを読み込んでください。\n"
      ]
    },
    {
      "cell_type": "code",
      "execution_count": null,
      "metadata": {},
      "outputs": [],
      "source": [
        "# ライブラリのインポートとデータ読み込み\n",
        "import pandas as pd\n",
        "\n",
        "# データの読み込み\n",
        "df = pd.read_csv('visa_number_in_japan.csv')\n",
        "print(\"データを読み込みました！\")\n",
        "print(f\"データの形（行数, 列数）: {df.shape}\")\n",
        "df.head()\n"
      ]
    },
    {
      "cell_type": "raw",
      "metadata": {},
      "source": []
    },
    {
      "cell_type": "raw",
      "metadata": {
        "vscode": {
          "languageId": "raw"
        }
      },
      "source": []
    }
  ],
  "metadata": {
    "language_info": {
      "name": "python"
    }
  },
  "nbformat": 4,
  "nbformat_minor": 2
}
