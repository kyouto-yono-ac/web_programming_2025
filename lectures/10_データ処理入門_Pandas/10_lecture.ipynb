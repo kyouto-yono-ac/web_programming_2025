{
 "cells": [
  {
   "cell_type": "raw",
   "metadata": {
    "vscode": {
     "languageId": "raw"
    }
   },
   "source": [
    "# 第10回 講義ノートブック：データ処理入門 (Pandas)\n",
    "\n",
    "このノートブックでは、Pythonでデータを扱うための強力なライブラリである **Pandas** の基本的な使い方を学びます。\n",
    "\n",
    "## 本日の目標\n",
    "1. Pandasライブラリをインポートし、基本概念を理解する\n",
    "2. CSVファイルを読み込み、DataFrameとして扱う\n",
    "3. データの全体像を把握する（`head`, `info`）\n",
    "4. 簡単な条件でデータを絞り込む（フィルタリング）\n"
   ]
  },
  {
   "cell_type": "raw",
   "metadata": {
    "vscode": {
     "languageId": "raw"
    }
   },
   "source": [
    "## 準備：データセットのアップロード\n",
    "\n",
    "### データセットについて\n",
    "今回使用するのは、**日本への旅行者数データ（国籍・地域別ビザ発行数）**です。\n",
    "\n",
    "- **データ名**: Visa Issuance by Nationality and Region in Japan\n",
    "- **出典**: [Kaggle](https://www.kaggle.com/datasets/yutodennou/visa-issuance-by-nationality-and-region-in-japan)\n",
    "- **内容**: 年、月、国籍、ビザ種類、発行数などの情報\n",
    "\n",
    "### アップロード手順\n",
    "1. 上記リンクからデータをダウンロード\n",
    "2. ZIPファイルを解凍し、`visa_number_in_japan.csv` を取得\n",
    "3. Colabの左側のファイルパネルにドラッグ＆ドロップでアップロード\n"
   ]
  },
  {
   "cell_type": "raw",
   "metadata": {
    "vscode": {
     "languageId": "raw"
    }
   },
   "source": [
    "## Step 1: Pandasライブラリのインポート\n",
    "\n",
    "**Pandasとは？**\n",
    "- Pythonでデータを簡単に扱うための「道具箱」\n",
    "- Excelのような表形式データを効率的に処理できる\n",
    "- 慣例として `pd` という短い名前で呼ぶ\n"
   ]
  },
  {
   "cell_type": "code",
   "execution_count": null,
   "metadata": {},
   "outputs": [],
   "source": [
    "import pandas as pd\n",
    "print(\"Pandasをインポートしました！\")\n"
   ]
  },
  {
   "cell_type": "raw",
   "metadata": {
    "vscode": {
     "languageId": "raw"
    }
   },
   "source": [
    "## Step 2: CSVファイルの読み込み\n",
    "\n",
    "**DataFrameとは？**\n",
    "- Pandasが扱う表形式データ（行と列からなる）\n",
    "- `pd.read_csv()` でCSVファイルからDataFrameを作成\n"
   ]
  },
  {
   "cell_type": "code",
   "execution_count": null,
   "metadata": {},
   "outputs": [],
   "source": [
    "# CSVファイルを読み込み、変数 'df' に格納\n",
    "df = pd.read_csv('visa_number_in_japan.csv')\n",
    "print(\"データを読み込みました！\")\n",
    "print(f\"データの形（行数, 列数）: {df.shape}\")\n"
   ]
  },
  {
   "cell_type": "raw",
   "metadata": {
    "vscode": {
     "languageId": "raw"
    }
   },
   "source": [
    "## Step 3: データの観察\n",
    "\n",
    "読み込んだデータがどのようなものか確認してみましょう。\n",
    "\n",
    "### 3-1. `head()`: データの先頭を確認\n"
   ]
  },
  {
   "cell_type": "code",
   "execution_count": null,
   "metadata": {},
   "outputs": [],
   "source": [
    "# 最初の5行を表示\n",
    "df.head()\n"
   ]
  },
  {
   "cell_type": "raw",
   "metadata": {
    "vscode": {
     "languageId": "raw"
    }
   },
   "source": [
    "### 3-2. `info()`: データの基本情報を確認\n"
   ]
  },
  {
   "cell_type": "code",
   "execution_count": null,
   "metadata": {},
   "outputs": [],
   "source": [
    "# データの基本情報（行数、列数、データ型、欠損値など）を表示\n",
    "df.info()\n"
   ]
  },
  {
   "cell_type": "raw",
   "metadata": {
    "vscode": {
     "languageId": "raw"
    }
   },
   "source": [
    "## Step 4: データの絞り込み（フィルタリング）\n",
    "\n",
    "大量のデータから必要な部分だけを取り出す操作です。\n",
    "\n",
    "### 4-1. 列の選択（縦方向に絞る）\n"
   ]
  },
  {
   "cell_type": "code",
   "execution_count": null,
   "metadata": {},
   "outputs": [],
   "source": [
    "# 'Country' (国籍) の列だけを取り出す\n",
    "countries = df['Country']\n",
    "print(\"国籍の列:\")\n",
    "print(countries.head(10))  # 最初の10個を表示\n"
   ]
  },
  {
   "cell_type": "raw",
   "metadata": {
    "vscode": {
     "languageId": "raw"
    }
   },
   "source": [
    "### 4-2. 行の選択（横方向に絞る）\n"
   ]
  },
  {
   "cell_type": "code",
   "execution_count": null,
   "metadata": {},
   "outputs": [],
   "source": [
    "# 2023年のデータだけを取り出す\n",
    "df_2023 = df[df['Year'] == 2023]\n",
    "print(f\"2023年のデータ件数: {len(df_2023)}件\")\n",
    "df_2023.head()\n"
   ]
  },
  {
   "cell_type": "raw",
   "metadata": {
    "vscode": {
     "languageId": "raw"
    }
   },
   "source": [
    "## 演習問題\n",
    "\n",
    "スライドで指示された演習に取り組んでみましょう！\n",
    "\n",
    "### 演習1: 「中国 (China)」のデータだけを抽出してみよう\n"
   ]
  },
  {
   "cell_type": "code",
   "execution_count": null,
   "metadata": {},
   "outputs": [],
   "source": [
    "# ここにコードを書いてください\n",
    "# df_china = df[df['Country'] == 'China']\n",
    "# df_china.head()\n"
   ]
  },
  {
   "cell_type": "raw",
   "metadata": {
    "vscode": {
     "languageId": "raw"
    }
   },
   "source": [
    "### 演習2: 「Number of issued_numerical」が10000以上のデータだけを抽出してみよう\n"
   ]
  },
  {
   "cell_type": "code",
   "execution_count": null,
   "metadata": {},
   "outputs": [],
   "source": [
    "# ここにコードを書いてください\n",
    "# df_large_count = df[df['Number of issued_numerical'] >= 10000]\n",
    "# df_large_count.head()\n"
   ]
  },
  {
   "cell_type": "raw",
   "metadata": {
    "vscode": {
     "languageId": "raw"
    }
   },
   "source": [
    "## まとめ\n",
    "\n",
    "### 本日学んだこと\n",
    "1. **Pandasのインポート**: `import pandas as pd`\n",
    "2. **CSVファイルの読み込み**: `pd.read_csv('ファイル名')`\n",
    "3. **データの観察**:\n",
    "   - `df.head()`: 先頭の数行を表示\n",
    "   - `df.info()`: データの基本情報を表示\n",
    "4. **データの絞り込み**:\n",
    "   - 列の選択: `df['列名']`\n",
    "   - 行の選択: `df[条件式]`\n",
    "\n",
    "### 次回予告\n",
    "第11回では、今日学んだ基本操作を発展させて：\n",
    "- 複数条件での絞り込み\n",
    "- データの集計（`groupby`）\n",
    "- ランキングの作成（`sort_values`）\n",
    "- Streamlitアプリとの連携\n",
    "\n",
    "を学びます！お疲れ様でした🎉\n"
   ]
  }
 ],
 "metadata": {
  "language_info": {
   "name": "python"
  }
 },
 "nbformat": 4,
 "nbformat_minor": 2
}
