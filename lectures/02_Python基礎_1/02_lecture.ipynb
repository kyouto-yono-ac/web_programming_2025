{
 "cells": [
  {
   "cell_type": "markdown",
   "metadata": {},
   "source": [
    "# Python基礎 (1): 変数、データ型、演算\n",
    "大妻女子大学 Webプログラミング I"
   ]
  },
  {
   "cell_type": "markdown",
   "metadata": {},
   "source": [
    "## Pythonの変数と代入\n",
    "\n",
    "変数は値を保存するための名前付きの「箱」です。"
   ]
  },
  {
   "cell_type": "code",
   "execution_count": null,
   "metadata": {},
   "outputs": [],
   "source": [
    "# 変数名 = 値\n",
    "name = \"大妻 花子\"\n",
    "age = 20\n",
    "is_student = True\n",
    "\n",
    "print(name)\n",
    "print(age)\n",
    "print(is_student)"
   ]
  },
  {
   "cell_type": "code",
   "execution_count": null,
   "metadata": {},
   "outputs": [],
   "source": [
    "# 複数の変数に同時に代入\n",
    "x, y, z = 1, 2, 3\n",
    "\n",
    "print(x)\n",
    "print(y)\n",
    "print(z)"
   ]
  },
  {
   "cell_type": "code",
   "execution_count": null,
   "metadata": {},
   "outputs": [],
   "source": [
    "# 変数の値は上書き可能\n",
    "age = 21\n",
    "print(age)"
   ]
  },
  {
   "cell_type": "markdown",
   "metadata": {},
   "source": [
    "### 変数の命名規則\n",
    "- 英数字とアンダースコア(_)を使用\n",
    "- 数字で始めることはできない\n",
    "- 大文字小文字を区別（`name` と `Name` は別の変数）\n",
    "- 予約語は使用できない (`if`, `for`, `while` など)"
   ]
  },
  {
   "cell_type": "markdown",
   "metadata": {},
   "source": [
    "## Pythonの基本データ型"
   ]
  },
  {
   "cell_type": "markdown",
   "metadata": {},
   "source": [
    "### 数値型"
   ]
  },
  {
   "cell_type": "code",
   "execution_count": null,
   "metadata": {},
   "outputs": [],
   "source": [
    "# 整数型 (int)\n",
    "age = 20\n",
    "count = -5\n",
    "print(age)\n",
    "print(count)\n",
    "print(type(age))"
   ]
  },
  {
   "cell_type": "code",
   "execution_count": null,
   "metadata": {},
   "outputs": [],
   "source": [
    "# 浮動小数点型 (float)\n",
    "height = 162.5\n",
    "pi = 3.14159\n",
    "print(height)\n",
    "print(pi)\n",
    "print(type(height))"
   ]
  },
  {
   "cell_type": "markdown",
   "metadata": {},
   "source": [
    "### 文字列型 (str)"
   ]
  },
  {
   "cell_type": "code",
   "execution_count": null,
   "metadata": {},
   "outputs": [],
   "source": [
    "name = \"大妻 花子\"\n",
    "message = 'Pythonを学んでいます'\n",
    "multiline = \"\"\"複数行の\n",
    "テキストも\n",
    "書けます\"\"\"\n",
    "print(name)\n",
    "print(message)\n",
    "print(multiline)\n",
    "print(type(name))"
   ]
  },
  {
   "cell_type": "markdown",
   "metadata": {},
   "source": [
    "### ブール型 (bool)"
   ]
  },
  {
   "cell_type": "code",
   "execution_count": null,
   "metadata": {},
   "outputs": [],
   "source": [
    "is_student = True\n",
    "has_finished = False\n",
    "print(is_student)\n",
    "print(has_finished)\n",
    "print(type(is_student))"
   ]
  },
  {
   "cell_type": "markdown",
   "metadata": {},
   "source": [
    "### None型"
   ]
  },
  {
   "cell_type": "code",
   "execution_count": null,
   "metadata": {},
   "outputs": [],
   "source": [
    "# 値が未定義であることを表す\n",
    "result = None\n",
    "print(result)\n",
    "print(type(result))"
   ]
  },
  {
   "cell_type": "markdown",
   "metadata": {},
   "source": [
    "### 型を確認する"
   ]
  },
  {
   "cell_type": "code",
   "execution_count": null,
   "metadata": {},
   "outputs": [],
   "source": [
    "# type()関数で型を確認できる\n",
    "print(type(42))        # <class 'int'>\n",
    "print(type(\"こんにちは\"))  # <class 'str'>\n",
    "print(type(True))      # <class 'bool'>\n",
    "print(type(None))      # <class 'NoneType'>\n",
    "print(type(3.14))      # <class 'float'>"
   ]
  },
  {
   "cell_type": "markdown",
   "metadata": {},
   "source": [
    "## 型変換（キャスト）\n",
    "\n",
    "Pythonでは型を変換することができます。"
   ]
  },
  {
   "cell_type": "code",
   "execution_count": null,
   "metadata": {},
   "outputs": [],
   "source": [
    "# 文字列から整数へ\n",
    "age_str = \"20\"\n",
    "age_int = int(age_str)  # 20 (整数)\n",
    "print(age_int)\n",
    "print(type(age_int))"
   ]
  },
  {
   "cell_type": "code",
   "execution_count": null,
   "metadata": {},
   "outputs": [],
   "source": [
    "# 整数から文字列へ\n",
    "count = 100\n",
    "count_str = str(count)  # \"100\" (文字列)\n",
    "print(count_str)\n",
    "print(type(count_str))"
   ]
  },
  {
   "cell_type": "code",
   "execution_count": null,
   "metadata": {},
   "outputs": [],
   "source": [
    "# 文字列から浮動小数点へ\n",
    "height_str = \"165.5\"\n",
    "height_float = float(height_str)  # 165.5 (浮動小数点)\n",
    "print(height_float)\n",
    "print(type(height_float))"
   ]
  },
  {
   "cell_type": "code",
   "execution_count": null,
   "metadata": {},
   "outputs": [],
   "source": [
    "# 注意: 変換できない場合はエラー\n",
    "# int(\"abc\")  # エラー: 数字ではない文字列"
   ]
  },
  {
   "cell_type": "markdown",
   "metadata": {},
   "source": [
    "## 算術演算子\n",
    "\n",
    "Pythonでは様々な数値計算ができます。"
   ]
  },
  {
   "cell_type": "code",
   "execution_count": null,
   "metadata": {},
   "outputs": [],
   "source": [
    "# 基本的な算術演算子\n",
    "a = 10\n",
    "b = 3\n",
    "\n",
    "print(a + b)   # 13  (加算)\n",
    "print(a - b)   # 7   (減算)\n",
    "print(a * b)   # 30  (乗算)\n",
    "print(a / b)   # 3.3333... (除算 - 結果は常に浮動小数点)\n",
    "print(a // b)  # 3   (整数除算 - 小数点以下切り捨て)\n",
    "print(a % b)   # 1   (剰余 - 割り算の余り)\n",
    "print(a ** b)  # 1000 (べき乗 - aのb乗)"
   ]
  },
  {
   "cell_type": "markdown",
   "metadata": {},
   "source": [
    "## 代入演算子\n",
    "\n",
    "計算と代入を同時に行うことができます。"
   ]
  },
  {
   "cell_type": "code",
   "execution_count": null,
   "metadata": {},
   "outputs": [],
   "source": [
    "x = 10\n",
    "print(f\"Initial x: {x}\")\n",
    "\n",
    "# 以下の二つは同じ意味\n",
    "# x = x + 5\n",
    "x += 5\n",
    "print(f\"x += 5: {x}\")\n",
    "\n",
    "# 他の代入演算子\n",
    "x -= 3   # x = x - 3 と同じ\n",
    "print(f\"x -= 3: {x}\")\n",
    "x *= 2   # x = x * 2 と同じ\n",
    "print(f\"x *= 2: {x}\")\n",
    "x /= 4   # x = x / 4 と同じ\n",
    "print(f\"x /= 4: {x}\")\n",
    "x //= 2  # x = x // 2 と同じ\n",
    "print(f\"x //= 2: {x}\")\n",
    "x %= 3   # x = x % 3 と同じ\n",
    "print(f\"x %= 3: {x}\")\n",
    "x **= 2  # x = x ** 2 と同じ\n",
    "print(f\"x **= 2: {x}\")"
   ]
  },
  {
   "cell_type": "markdown",
   "metadata": {},
   "source": [
    "## 比較演算子\n",
    "\n",
    "二つの値を比較し、True/Falseを返します。"
   ]
  },
  {
   "cell_type": "code",
   "execution_count": null,
   "metadata": {},
   "outputs": [],
   "source": [
    "a = 10\n",
    "b = 5\n",
    "\n",
    "print(a == b)  # False (等しい)\n",
    "print(a != b)  # True  (等しくない)\n",
    "print(a > b)   # True  (より大きい)\n",
    "print(a < b)   # False (より小さい)\n",
    "print(a >= b)  # True  (以上)\n",
    "print(a <= b)  # False (以下)"
   ]
  },
  {
   "cell_type": "markdown",
   "metadata": {},
   "source": [
    "## 論理演算子\n",
    "\n",
    "複数の条件を組み合わせることができます。"
   ]
  },
  {
   "cell_type": "code",
   "execution_count": null,
   "metadata": {},
   "outputs": [],
   "source": [
    "x = 10\n",
    "y = 5\n",
    "\n",
    "# and演算子 (両方がTrueならTrue)\n",
    "print(x > 5 and y < 10)  # True\n",
    "\n",
    "# or演算子 (少なくとも一方がTrueならTrue)\n",
    "print(x < 5 or y < 10)   # True\n",
    "\n",
    "# not演算子 (真偽を反転)\n",
    "print(not x == 10)       # False"
   ]
  },
  {
   "cell_type": "markdown",
   "metadata": {},
   "source": [
    "## 文字列の操作\n",
    "\n",
    "Pythonでは文字列を様々な方法で操作できます。"
   ]
  },
  {
   "cell_type": "code",
   "execution_count": null,
   "metadata": {},
   "outputs": [],
   "source": [
    "# 文字列の連結\n",
    "first_name = \"大妻\"\n",
    "last_name = \"花子\"\n",
    "full_name = first_name + \" \" + last_name  # \"大妻 花子\"\n",
    "print(full_name)"
   ]
  },
  {
   "cell_type": "code",
   "execution_count": null,
   "metadata": {},
   "outputs": [],
   "source": [
    "# 文字列の繰り返し\n",
    "stars = \"*\" * 5  # \"*****\"\n",
    "print(stars)"
   ]
  },
  {
   "cell_type": "code",
   "execution_count": null,
   "metadata": {},
   "outputs": [],
   "source": [
    "# 文字列の長さ\n",
    "full_name = \"大妻 花子\"\n",
    "length = len(full_name)  # 5\n",
    "print(length)"
   ]
  },
  {
   "cell_type": "code",
   "execution_count": null,
   "metadata": {},
   "outputs": [],
   "source": [
    "# 文字列のインデックス (0から始まる)\n",
    "full_name = \"大妻 花子\"\n",
    "first_char = full_name[0]  # \"大\"\n",
    "print(first_char)"
   ]
  },
  {
   "cell_type": "code",
   "execution_count": null,
   "metadata": {},
   "outputs": [],
   "source": [
    "# 部分文字列 (スライス)\n",
    "full_name = \"大妻 花子\"\n",
    "substring = full_name[0:2]  # \"大妻\" (終了インデックスは含まない)\n",
    "print(substring)"
   ]
  },
  {
   "cell_type": "markdown",
   "metadata": {},
   "source": [
    "## 文字列のメソッド\n",
    "\n",
    "文字列には便利なメソッドが多数あります。"
   ]
  },
  {
   "cell_type": "code",
   "execution_count": null,
   "metadata": {},
   "outputs": [],
   "source": [
    "message = \"Python プログラミング\"\n",
    "\n",
    "# 大文字・小文字変換\n",
    "print(message.upper())       # \"PYTHON プログラミング\"\n",
    "print(message.lower())       # \"python プログラミング\"\n",
    "\n",
    "# 置換\n",
    "print(message.replace(\"Python\", \"Streamlit\"))  # \"Streamlit プログラミング\"\n",
    "\n",
    "# 分割\n",
    "words = message.split()      # [\"Python\", \"プログラミング\"]\n",
    "print(words)\n",
    "\n",
    "# 文字列の検索\n",
    "print(\"Python\" in message)   # True\n",
    "print(message.find(\"Python\"))  # 0 (見つかった位置のインデックス)\n",
    "print(message.find(\"Java\"))    # -1 (見つからない場合)"
   ]
  },
  {
   "cell_type": "markdown",
   "metadata": {},
   "source": [
    "## リストの基本\n",
    "\n",
    "リストは複数の値を順序付けて保存するデータ構造です。"
   ]
  },
  {
   "cell_type": "code",
   "execution_count": null,
   "metadata": {},
   "outputs": [],
   "source": [
    "# リストの作成\n",
    "fruits = [\"りんご\", \"バナナ\", \"オレンジ\"]\n",
    "numbers = [1, 2, 3, 4, 5]\n",
    "mixed = [1, \"りんご\", True, 3.14]  # 異なる型も混在可能\n",
    "print(fruits)\n",
    "print(numbers)\n",
    "print(mixed)"
   ]
  },
  {
   "cell_type": "code",
   "execution_count": null,
   "metadata": {},
   "outputs": [],
   "source": [
    "# 空のリスト\n",
    "empty_list = []\n",
    "print(empty_list)"
   ]
  },
  {
   "cell_type": "code",
   "execution_count": null,
   "metadata": {},
   "outputs": [],
   "source": [
    "# リストの要素にアクセス (インデックスは0から始まる)\n",
    "fruits = [\"りんご\", \"バナナ\", \"オレンジ\"]\n",
    "first_fruit = fruits[0]  # \"りんご\"\n",
    "last_fruit = fruits[2]   # \"オレンジ\"\n",
    "print(first_fruit)\n",
    "print(last_fruit)"
   ]
  },
  {
   "cell_type": "code",
   "execution_count": null,
   "metadata": {},
   "outputs": [],
   "source": [
    "# 負のインデックスは末尾から数える\n",
    "fruits = [\"りんご\", \"バナナ\", \"オレンジ\"]\n",
    "last_item = fruits[-1]   # \"オレンジ\"\n",
    "second_last_item = fruits[-2] # \"バナナ\"\n",
    "print(last_item)\n",
    "print(second_last_item)"
   ]
  },
  {
   "cell_type": "code",
   "execution_count": null,
   "metadata": {},
   "outputs": [],
   "source": [
    "# リストの長さ\n",
    "fruits = [\"りんご\", \"バナナ\", \"オレンジ\"]\n",
    "count = len(fruits)  # 3\n",
    "print(count)"
   ]
  },
  {
   "cell_type": "markdown",
   "metadata": {},
   "source": [
    "## リストの操作\n",
    "\n",
    "リストは可変 (mutable) なので、中身を変更できます。"
   ]
  },
  {
   "cell_type": "code",
   "execution_count": null,
   "metadata": {},
   "outputs": [],
   "source": [
    "fruits = [\"りんご\", \"バナナ\", \"オレンジ\"]\n",
    "print(f\"Original: {fruits}\")\n",
    "\n",
    "# 要素の変更\n",
    "fruits[1] = \"ぶどう\"  # [\"りんご\", \"ぶどう\", \"オレンジ\"]\n",
    "print(f\"After change: {fruits}\")\n",
    "\n",
    "# 追加\n",
    "fruits.append(\"いちご\")  # [\"りんご\", \"ぶどう\", \"オレンジ\", \"いちご\"]\n",
    "print(f\"After append: {fruits}\")\n",
    "\n",
    "# 挿入\n",
    "fruits.insert(1, \"メロン\")  # [\"りんご\", \"メロン\", \"ぶどう\", \"オレンジ\", \"いちご\"]\n",
    "print(f\"After insert: {fruits}\")\n",
    "\n",
    "# 削除 (値指定)\n",
    "fruits.remove(\"ぶどう\")  # [\"りんご\", \"メロン\", \"オレンジ\", \"いちご\"]\n",
    "print(f\"After remove: {fruits}\")\n",
    "\n",
    "# 削除 (インデックス指定)\n",
    "del fruits[2]  # [\"りんご\", \"メロン\", \"いちご\"]\n",
    "print(f\"After del: {fruits}\")\n",
    "\n",
    "# 末尾の要素を取り出して削除\n",
    "last = fruits.pop()  # \"いちご\", fruits = [\"りんご\", \"メロン\"]\n",
    "print(f\"Popped item: {last}\")\n",
    "print(f\"After pop: {fruits}\")"
   ]
  },
  {
   "cell_type": "markdown",
   "metadata": {},
   "source": [
    "## リストのスライス\n",
    "\n",
    "リストの一部を取り出すことができます。"
   ]
  },
  {
   "cell_type": "code",
   "execution_count": null,
   "metadata": {},
   "outputs": [],
   "source": [
    "numbers = [0, 1, 2, 3, 4, 5, 6, 7, 8, 9]\n",
    "print(f\"Original list: {numbers}\")\n",
    "\n",
    "# スライス: [開始:終了] (終了インデックスは含まない)\n",
    "subset = numbers[2:5]  # [2, 3, 4]\n",
    "print(f\"numbers[2:5]: {subset}\")\n",
    "\n",
    "# 開始インデックスを省略すると最初から\n",
    "first_half = numbers[:5]  # [0, 1, 2, 3, 4]\n",
    "print(f\"numbers[:5]: {first_half}\")\n",
    "\n",
    "# 終了インデックスを省略すると最後まで\n",
    "second_half = numbers[5:]  # [5, 6, 7, 8, 9]\n",
    "print(f\"numbers[5:]: {second_half}\")\n",
    "\n",
    "# ステップを指定 [開始:終了:ステップ]\n",
    "every_second = numbers[::2]  # [0, 2, 4, 6, 8]\n",
    "print(f\"numbers[::2]: {every_second}\")\n",
    "\n",
    "# 負のステップで逆順\n",
    "reversed_list = numbers[::-1]  # [9, 8, 7, 6, 5, 4, 3, 2, 1, 0]\n",
    "print(f\"numbers[::-1]: {reversed_list}\")"
   ]
  },
  {
   "cell_type": "markdown",
   "metadata": {},
   "source": [
    "## タプル\n",
    "\n",
    "タプルはリストに似ていますが、一度作成すると変更できません（イミュータブル）。"
   ]
  },
  {
   "cell_type": "code",
   "execution_count": null,
   "metadata": {},
   "outputs": [],
   "source": [
    "# タプルの作成 (丸括弧を使用)\n",
    "coordinates = (3, 4)\n",
    "person = (\"大妻花子\", 20, \"東京\")\n",
    "print(coordinates)\n",
    "print(person)"
   ]
  },
  {
   "cell_type": "code",
   "execution_count": null,
   "metadata": {},
   "outputs": [],
   "source": [
    "# 1要素のタプルは末尾にカンマが必要\n",
    "single_item = (42,)\n",
    "print(single_item)\n",
    "print(type(single_item))"
   ]
  },
  {
   "cell_type": "code",
   "execution_count": null,
   "metadata": {},
   "outputs": [],
   "source": [
    "# タプルの要素にアクセス (リストと同じ)\n",
    "person = (\"大妻花子\", 20, \"東京\")\n",
    "name = person[0]  # \"大妻花子\"\n",
    "age = person[1]   # 20\n",
    "print(name)\n",
    "print(age)"
   ]
  },
  {
   "cell_type": "code",
   "execution_count": null,
   "metadata": {},
   "outputs": [],
   "source": [
    "# タプルはイミュータブル（変更不可）\n",
    "# person[1] = 21  # エラー：タプルは変更できない"
   ]
  },
  {
   "cell_type": "code",
   "execution_count": null,
   "metadata": {},
   "outputs": [],
   "source": [
    "# タプルのアンパック\n",
    "person = (\"大妻花子\", 20, \"東京\")\n",
    "name, age, location = person  # 複数の変数に同時に代入\n",
    "print(name)\n",
    "print(age)\n",
    "print(location)"
   ]
  }
 ],
 "metadata": {
  "kernelspec": {
   "display_name": "Python 3",
   "language": "python",
   "name": "python3"
  },
  "language_info": {
   "codemirror_mode": {
    "name": "ipython",
    "version": 3
   },
   "file_extension": ".py",
   "mimetype": "text/x-python",
   "name": "python",
   "nbconvert_exporter": "python",
   "pygments_lexer": "ipython3",
   "version": "3.8.10"
  }
 },
 "nbformat": 4,
 "nbformat_minor": 4
}
