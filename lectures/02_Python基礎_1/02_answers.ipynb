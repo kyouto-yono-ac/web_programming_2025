{
 "cells": [
  {
   "cell_type": "markdown",
   "metadata": {},
   "source": [
    "# Python基礎 (1) - 演習問題\n",
    "\n",
    "このノートブックは、Pythonの基本（変数、データ型、演算子、文字列、リスト、タプル）に関する演習問題を含みます。\n",
    "各問題の指示に従い、下のコードセルに解答を記述して実行してください。"
   ]
  },
  {
   "cell_type": "markdown",
   "metadata": {},
   "source": [
    "## 演習1: 変数と計算\n",
    "\n",
    "**課題:** 身長(m)と体重(kg)を表す変数を作成し、それらを使ってBMI（体重(kg) / 身長(m)の2乗）を計算して表示してください。\n",
    "\n",
    "**条件:**\n",
    "- 身長を1.65m、体重を55kgとして計算してください。\n"
   ]
  },
  {
   "cell_type": "code",
   "execution_count": null,
   "metadata": {},
   "outputs": [],
   "source": [
    "# --- 解答欄 (演習1) --- \n",
    "\n",
    "# 身長と体重の変数を定義\n",
    "height = 1.65  # m\n",
    "weight = 55.0  # kg\n",
    "\n",
    "# BMIを計算\n",
    "# BMI = 体重 / (身長 * 身長)\n",
    "bmi = weight / (height ** 2)\n",
    "\n",
    "# 結果を表示\n",
    "print(\"身長: \" + str(height) + \"m, 体重: \" + str(weight) + \"kg\")\n",
    "print(\"BMIは\" + str(bmi) )\n"
   ]
  },
  {
   "cell_type": "markdown",
   "metadata": {},
   "source": [
    "## 演習2: 文字列操作\n",
    "\n",
    "**課題:**\n",
    "1. 自分の名前（ローマ字）を変数 `my_name` に代入してください。\n",
    "2. `my_name` をすべて大文字にして表示してください。\n",
    "3. `my_name` の文字数を表示してください。\n",
    "4. `my_name` を使って、`\"Hello, [あなたの名前]! Welcome!\"` という形式の挨拶文を作成して表示してください。"
   ]
  },
  {
   "cell_type": "code",
   "execution_count": null,
   "metadata": {},
   "outputs": [],
   "source": [
    "# --- 解答欄 (演習2) --- \n",
    "\n",
    "# 1. 自分の名前（ローマ字）を変数 my_name に代入\n",
    "my_name = \"Hanako Otsuma\" # 例として \"Hanako Otsuma\" を使用\n",
    "\n",
    "# 2. my_name をすべて大文字にして表示\n",
    "print(my_name.upper())\n",
    "\n",
    "# 3. my_name の文字数を表示\n",
    "print(len(my_name))\n",
    "\n",
    "# 4. my_name を使って挨拶文を作成して表示\n",
    "greeting = \"Hello, \" + my_name + \"! Welcome!\"\n",
    "print(greeting)"
   ]
  },
  {
   "cell_type": "markdown",
   "metadata": {},
   "source": [
    "## 演習3: リスト操作\n",
    "\n",
    "**課題:**\n",
    "1. `[\"apple\", \"banana\", \"cherry\"]` というリストを作成し、変数 `fruits` に代入してください。\n",
    "2. リスト `fruits` に `\"orange\"` を追加してください。\n",
    "3. リスト `fruits` の2番目の要素（インデックス1）を `\"grape\"` に変更してください。\n",
    "4. リスト `fruits` から `\"apple\"` を削除してください。\n",
    "5. 最終的なリスト `fruits` とその要素数を表示してください。"
   ]
  },
  {
   "cell_type": "code",
   "execution_count": null,
   "metadata": {},
   "outputs": [],
   "source": [
    "# --- 解答欄 (演習3) --- \n",
    "\n",
    "# 1. リストの作成\n",
    "fruits = [\"apple\", \"banana\", \"cherry\"]\n",
    "print(\"Initial list:\", fruits)\n",
    "\n",
    "# 2. 要素の追加\n",
    "fruits.append(\"orange\")\n",
    "print(\"After append:\", fruits)\n",
    "\n",
    "# 3. 要素の変更 (インデックス1は2番目の要素)\n",
    "fruits[1] = \"grape\"\n",
    "print(\"After change:\", fruits)\n",
    "\n",
    "# 4. 要素の削除 (値を指定)\n",
    "fruits.remove(\"apple\")\n",
    "print(\"After remove:\", fruits)\n",
    "\n",
    "# 5. 最終結果の表示\n",
    "print(\"Final list:\", fruits)\n",
    "print(\"Number of items: \" + str(len(fruits)))"
   ]
  }
 ],
 "metadata": {
  "kernelspec": {
   "display_name": "Python 3",
   "language": "python",
   "name": "python3"
  },
  "language_info": {
   "codemirror_mode": {
    "name": "ipython",
    "version": 3
   },
   "file_extension": ".py",
   "mimetype": "text/x-python",
   "name": "python",
   "nbconvert_exporter": "python",
   "pygments_lexer": "ipython3",
   "version": "3.8.10"
  }
 },
 "nbformat": 4,
 "nbformat_minor": 4
}
